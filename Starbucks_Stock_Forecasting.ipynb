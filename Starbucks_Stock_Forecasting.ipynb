{
 "cells": [
  {
   "cell_type": "markdown",
   "id": "5db5b60f-57b6-470c-b9dc-2c19bc19c068",
   "metadata": {},
   "source": [
    "# **Starbucks Stock Price Forecasting**\n",
    "> 🤔 We are going to train a LSTM and CNN model on our Starbucks Data that I got on this link - https://finance.yahoo.com/quote/SBUX/history?period1=1061856000&period2=1693008000&interval=1d&filter=history&frequency=1d&includeAdjustedClose=true"
   ]
  },
  {
   "cell_type": "code",
   "execution_count": 1,
   "id": "ab895289-2525-4c76-8b67-f2327169f82c",
   "metadata": {},
   "outputs": [],
   "source": [
    "import tensorflow as tf\n",
    "import pandas as pd\n",
    "import matplotlib.pyplot as plt\n",
    "import numpy as np"
   ]
  },
  {
   "cell_type": "markdown",
   "id": "30f88a02-03d1-4a5f-ad31-fbed2ccb601a",
   "metadata": {},
   "source": [
    "## Load Data"
   ]
  },
  {
   "cell_type": "code",
   "execution_count": 2,
   "id": "fb198e8d-0de0-486b-896d-9dd37e3f7a68",
   "metadata": {},
   "outputs": [],
   "source": [
    "df = pd.read_csv('SBUX.csv')"
   ]
  },
  {
   "cell_type": "code",
   "execution_count": 3,
   "id": "f9743e48-4d92-4f23-9426-73e435a547b0",
   "metadata": {},
   "outputs": [
    {
     "data": {
      "text/html": [
       "<div>\n",
       "<style scoped>\n",
       "    .dataframe tbody tr th:only-of-type {\n",
       "        vertical-align: middle;\n",
       "    }\n",
       "\n",
       "    .dataframe tbody tr th {\n",
       "        vertical-align: top;\n",
       "    }\n",
       "\n",
       "    .dataframe thead th {\n",
       "        text-align: right;\n",
       "    }\n",
       "</style>\n",
       "<table border=\"1\" class=\"dataframe\">\n",
       "  <thead>\n",
       "    <tr style=\"text-align: right;\">\n",
       "      <th></th>\n",
       "      <th>Date</th>\n",
       "      <th>Open</th>\n",
       "      <th>High</th>\n",
       "      <th>Low</th>\n",
       "      <th>Close</th>\n",
       "      <th>Adj Close</th>\n",
       "      <th>Volume</th>\n",
       "    </tr>\n",
       "  </thead>\n",
       "  <tbody>\n",
       "    <tr>\n",
       "      <th>0</th>\n",
       "      <td>2003-08-26</td>\n",
       "      <td>6.7500</td>\n",
       "      <td>6.7900</td>\n",
       "      <td>6.6250</td>\n",
       "      <td>6.7750</td>\n",
       "      <td>5.358759</td>\n",
       "      <td>10353200</td>\n",
       "    </tr>\n",
       "    <tr>\n",
       "      <th>1</th>\n",
       "      <td>2003-08-27</td>\n",
       "      <td>6.7550</td>\n",
       "      <td>6.8125</td>\n",
       "      <td>6.7125</td>\n",
       "      <td>6.7800</td>\n",
       "      <td>5.362714</td>\n",
       "      <td>6354400</td>\n",
       "    </tr>\n",
       "    <tr>\n",
       "      <th>2</th>\n",
       "      <td>2003-08-28</td>\n",
       "      <td>6.8250</td>\n",
       "      <td>6.9450</td>\n",
       "      <td>6.7575</td>\n",
       "      <td>6.9100</td>\n",
       "      <td>5.465537</td>\n",
       "      <td>11426400</td>\n",
       "    </tr>\n",
       "    <tr>\n",
       "      <th>3</th>\n",
       "      <td>2003-08-29</td>\n",
       "      <td>7.0125</td>\n",
       "      <td>7.1325</td>\n",
       "      <td>6.9275</td>\n",
       "      <td>7.0975</td>\n",
       "      <td>5.613843</td>\n",
       "      <td>17445600</td>\n",
       "    </tr>\n",
       "    <tr>\n",
       "      <th>4</th>\n",
       "      <td>2003-09-02</td>\n",
       "      <td>7.0225</td>\n",
       "      <td>7.2125</td>\n",
       "      <td>7.0150</td>\n",
       "      <td>7.1875</td>\n",
       "      <td>5.685032</td>\n",
       "      <td>14224400</td>\n",
       "    </tr>\n",
       "  </tbody>\n",
       "</table>\n",
       "</div>"
      ],
      "text/plain": [
       "         Date    Open    High     Low   Close  Adj Close    Volume\n",
       "0  2003-08-26  6.7500  6.7900  6.6250  6.7750   5.358759  10353200\n",
       "1  2003-08-27  6.7550  6.8125  6.7125  6.7800   5.362714   6354400\n",
       "2  2003-08-28  6.8250  6.9450  6.7575  6.9100   5.465537  11426400\n",
       "3  2003-08-29  7.0125  7.1325  6.9275  7.0975   5.613843  17445600\n",
       "4  2003-09-02  7.0225  7.2125  7.0150  7.1875   5.685032  14224400"
      ]
     },
     "execution_count": 3,
     "metadata": {},
     "output_type": "execute_result"
    }
   ],
   "source": [
    "df.head()"
   ]
  },
  {
   "cell_type": "markdown",
   "id": "0b429322-7b35-4e29-afd7-a8feeefe5f94",
   "metadata": {},
   "source": [
    "## Exploring and vsualizing the Data"
   ]
  },
  {
   "cell_type": "code",
   "execution_count": 4,
   "id": "dbc023f4-e245-4125-95f8-4358975f40f4",
   "metadata": {},
   "outputs": [
    {
     "data": {
      "text/html": [
       "<div>\n",
       "<style scoped>\n",
       "    .dataframe tbody tr th:only-of-type {\n",
       "        vertical-align: middle;\n",
       "    }\n",
       "\n",
       "    .dataframe tbody tr th {\n",
       "        vertical-align: top;\n",
       "    }\n",
       "\n",
       "    .dataframe thead th {\n",
       "        text-align: right;\n",
       "    }\n",
       "</style>\n",
       "<table border=\"1\" class=\"dataframe\">\n",
       "  <thead>\n",
       "    <tr style=\"text-align: right;\">\n",
       "      <th></th>\n",
       "      <th>Date</th>\n",
       "      <th>Open</th>\n",
       "      <th>High</th>\n",
       "      <th>Low</th>\n",
       "      <th>Close</th>\n",
       "      <th>Adj Close</th>\n",
       "      <th>Volume</th>\n",
       "    </tr>\n",
       "  </thead>\n",
       "  <tbody>\n",
       "    <tr>\n",
       "      <th>5030</th>\n",
       "      <td>2023-08-21</td>\n",
       "      <td>97.320000</td>\n",
       "      <td>97.570000</td>\n",
       "      <td>96.160004</td>\n",
       "      <td>96.459999</td>\n",
       "      <td>96.459999</td>\n",
       "      <td>3753200</td>\n",
       "    </tr>\n",
       "    <tr>\n",
       "      <th>5031</th>\n",
       "      <td>2023-08-22</td>\n",
       "      <td>96.489998</td>\n",
       "      <td>96.739998</td>\n",
       "      <td>95.599998</td>\n",
       "      <td>96.070000</td>\n",
       "      <td>96.070000</td>\n",
       "      <td>3640500</td>\n",
       "    </tr>\n",
       "    <tr>\n",
       "      <th>5032</th>\n",
       "      <td>2023-08-23</td>\n",
       "      <td>96.419998</td>\n",
       "      <td>96.559998</td>\n",
       "      <td>94.010002</td>\n",
       "      <td>95.180000</td>\n",
       "      <td>95.180000</td>\n",
       "      <td>9704500</td>\n",
       "    </tr>\n",
       "    <tr>\n",
       "      <th>5033</th>\n",
       "      <td>2023-08-24</td>\n",
       "      <td>94.750000</td>\n",
       "      <td>95.629997</td>\n",
       "      <td>93.709999</td>\n",
       "      <td>94.830002</td>\n",
       "      <td>94.830002</td>\n",
       "      <td>7824500</td>\n",
       "    </tr>\n",
       "    <tr>\n",
       "      <th>5034</th>\n",
       "      <td>2023-08-25</td>\n",
       "      <td>95.540001</td>\n",
       "      <td>95.959999</td>\n",
       "      <td>94.510002</td>\n",
       "      <td>95.480003</td>\n",
       "      <td>95.480003</td>\n",
       "      <td>5358800</td>\n",
       "    </tr>\n",
       "  </tbody>\n",
       "</table>\n",
       "</div>"
      ],
      "text/plain": [
       "            Date       Open       High        Low      Close  Adj Close  \\\n",
       "5030  2023-08-21  97.320000  97.570000  96.160004  96.459999  96.459999   \n",
       "5031  2023-08-22  96.489998  96.739998  95.599998  96.070000  96.070000   \n",
       "5032  2023-08-23  96.419998  96.559998  94.010002  95.180000  95.180000   \n",
       "5033  2023-08-24  94.750000  95.629997  93.709999  94.830002  94.830002   \n",
       "5034  2023-08-25  95.540001  95.959999  94.510002  95.480003  95.480003   \n",
       "\n",
       "       Volume  \n",
       "5030  3753200  \n",
       "5031  3640500  \n",
       "5032  9704500  \n",
       "5033  7824500  \n",
       "5034  5358800  "
      ]
     },
     "execution_count": 4,
     "metadata": {},
     "output_type": "execute_result"
    }
   ],
   "source": [
    "df.tail()"
   ]
  },
  {
   "cell_type": "code",
   "execution_count": 5,
   "id": "7b703f25-939d-419b-b4f7-823210a58b1e",
   "metadata": {},
   "outputs": [
    {
     "name": "stdout",
     "output_type": "stream",
     "text": [
      "<class 'pandas.core.frame.DataFrame'>\n",
      "RangeIndex: 5035 entries, 0 to 5034\n",
      "Data columns (total 7 columns):\n",
      " #   Column     Non-Null Count  Dtype  \n",
      "---  ------     --------------  -----  \n",
      " 0   Date       5035 non-null   object \n",
      " 1   Open       5035 non-null   float64\n",
      " 2   High       5035 non-null   float64\n",
      " 3   Low        5035 non-null   float64\n",
      " 4   Close      5035 non-null   float64\n",
      " 5   Adj Close  5035 non-null   float64\n",
      " 6   Volume     5035 non-null   int64  \n",
      "dtypes: float64(5), int64(1), object(1)\n",
      "memory usage: 275.5+ KB\n"
     ]
    }
   ],
   "source": [
    "df.info()"
   ]
  },
  {
   "cell_type": "code",
   "execution_count": 6,
   "id": "3dd3d01d-2929-4c89-a801-3211cf4cff4a",
   "metadata": {},
   "outputs": [],
   "source": [
    "df['Date'] = pd.to_datetime(df['Date'])"
   ]
  },
  {
   "cell_type": "code",
   "execution_count": 7,
   "id": "e9317087-23dc-4bcd-a258-15c089c10828",
   "metadata": {},
   "outputs": [
    {
     "data": {
      "text/plain": [
       "(5035, 7)"
      ]
     },
     "execution_count": 7,
     "metadata": {},
     "output_type": "execute_result"
    }
   ],
   "source": [
    "df.shape"
   ]
  },
  {
   "cell_type": "code",
   "execution_count": 8,
   "id": "3aedef64-79f2-4be3-97e7-45c2aad13d1f",
   "metadata": {},
   "outputs": [
    {
     "data": {
      "image/png": "[encoded data removed]",
      "text/plain": [
       "<Figure size 640x480 with 1 Axes>"
      ]
     },
     "metadata": {},
     "output_type": "display_data"
    }
   ],
   "source": [
    "# plot the close price of the stock\n",
    "df['Close'].plot(color='green', title='Starbucks Stock Close Price')\n",
    "plt.show();"
   ]
  },
  {
   "cell_type": "code",
   "execution_count": 9,
   "id": "3de15d09-45f1-4c36-9b0d-b29051f13af1",
   "metadata": {},
   "outputs": [
    {
     "data": {
      "image/png": "[encoded data removed]",
      "text/plain": [
       "<Figure size 640x480 with 1 Axes>"
      ]
     },
     "metadata": {},
     "output_type": "display_data"
    }
   ],
   "source": [
    "# plot the close price of the stock\n",
    "df['Volume'].plot(color='blue', title='Starbucks Stock Volume Price')\n",
    "plt.show();"
   ]
  },
  {
   "cell_type": "code",
   "execution_count": 10,
   "id": "82f64731-5b85-480f-abbc-20570fee30c3",
   "metadata": {},
   "outputs": [
    {
     "data": {
      "text/plain": [
       "array([ 6.775   ,  6.78    ,  6.91    , ..., 95.18    , 94.830002,\n",
       "       95.480003])"
      ]
     },
     "execution_count": 10,
     "metadata": {},
     "output_type": "execute_result"
    }
   ],
   "source": [
    "X = df['Close'].to_numpy()\n",
    "X"
   ]
  },
  {
   "cell_type": "code",
   "execution_count": 11,
   "id": "66c50c19-600e-46b9-beb3-66b4b600c874",
   "metadata": {},
   "outputs": [
    {
     "data": {
      "text/plain": [
       "(5035,)"
      ]
     },
     "execution_count": 11,
     "metadata": {},
     "output_type": "execute_result"
    }
   ],
   "source": [
    "X.shape"
   ]
  },
  {
   "cell_type": "markdown",
   "id": "ada02c5a-97eb-431e-b401-24baf44a4537",
   "metadata": {},
   "source": [
    "## MinMax Scaling the Data"
   ]
  },
  {
   "cell_type": "code",
   "execution_count": 12,
   "id": "1ac78f0d-eaba-48f0-87cc-60b9fb33df4d",
   "metadata": {},
   "outputs": [],
   "source": [
    "from sklearn.preprocessing import MinMaxScaler\n",
    "scaler = MinMaxScaler()\n",
    "X_scaled = scaler.fit_transform(X.reshape(-1, 1))"
   ]
  },
  {
   "cell_type": "code",
   "execution_count": 13,
   "id": "eb55129b-bee0-4968-87a1-ff5f68809a92",
   "metadata": {},
   "outputs": [
    {
     "data": {
      "text/plain": [
       "array([[0.02604613],\n",
       "       [0.02608696],\n",
       "       [0.0271484 ],\n",
       "       ...,\n",
       "       [0.74786692],\n",
       "       [0.74500921],\n",
       "       [0.75031643]])"
      ]
     },
     "execution_count": 13,
     "metadata": {},
     "output_type": "execute_result"
    }
   ],
   "source": [
    "X_scaled"
   ]
  },
  {
   "cell_type": "code",
   "execution_count": 14,
   "id": "8a598d66-af5a-4d0d-9775-2b4a9885e09f",
   "metadata": {},
   "outputs": [
    {
     "data": {
      "text/plain": [
       "(5035, 1)"
      ]
     },
     "execution_count": 14,
     "metadata": {},
     "output_type": "execute_result"
    }
   ],
   "source": [
    "X_scaled.shape"
   ]
  },
  {
   "cell_type": "markdown",
   "id": "62778899-09e3-45e4-96e9-0c08a72fa383",
   "metadata": {},
   "source": [
    "## Splitting into Training and testing"
   ]
  },
  {
   "cell_type": "code",
   "execution_count": 15,
   "id": "9c63c5aa-eced-4f95-b50f-2ffa8b243a9f",
   "metadata": {},
   "outputs": [],
   "source": [
    "def make_train_test_split(train_size:float, data):\n",
    "    train_index = int(len(data) * train_size)\n",
    "    train = data[:train_index]\n",
    "    test = data[train_index:]\n",
    "    return train, test"
   ]
  },
  {
   "cell_type": "code",
   "execution_count": 16,
   "id": "99d26aeb-68db-48da-a1c5-f1e379d7a257",
   "metadata": {},
   "outputs": [],
   "source": [
    "train_data, test_data = make_train_test_split(data=X_scaled, train_size=0.9)"
   ]
  },
  {
   "cell_type": "code",
   "execution_count": 17,
   "id": "17beab18-3750-40ad-a050-62fe3d32c184",
   "metadata": {},
   "outputs": [
    {
     "data": {
      "text/plain": [
       "((4531, 1), (504, 1))"
      ]
     },
     "execution_count": 17,
     "metadata": {},
     "output_type": "execute_result"
    }
   ],
   "source": [
    "train_data.shape, test_data.shape"
   ]
  },
  {
   "cell_type": "code",
   "execution_count": 18,
   "id": "fec6a0c4-3056-4b85-8107-82041dc085b9",
   "metadata": {},
   "outputs": [
    {
     "data": {
      "text/plain": [
       "<matplotlib.legend.Legend at 0x271bab8ea40>"
      ]
     },
     "execution_count": 18,
     "metadata": {},
     "output_type": "execute_result"
    },
    {
     "data": {
      "image/png": "[encoded data removed]",
      "text/plain": [
       "<Figure size 640x480 with 1 Axes>"
      ]
     },
     "metadata": {},
     "output_type": "display_data"
    }
   ],
   "source": [
    "plt.plot(df['Date'][:4531], train_data, label='Training Data')\n",
    "plt.plot(df['Date'][4531:], test_data, label='Testing Data')\n",
    "plt.legend()"
   ]
  },
  {
   "cell_type": "markdown",
   "id": "608bff99-bd71-4437-8d2d-27e82c0e6be5",
   "metadata": {},
   "source": [
    "## Windowing our dataset"
   ]
  },
  {
   "cell_type": "code",
   "execution_count": 19,
   "id": "b460fa5c-0559-4871-8c0c-8d72c50cc47f",
   "metadata": {},
   "outputs": [],
   "source": [
    "def make_windowed_datasets(data, window_size, horizon_size):\n",
    "    X = []\n",
    "    y = []\n",
    "    for i in range(len(data)-(window_size + horizon_size)):\n",
    "        X.append(data[i:i+window_size, 0])\n",
    "        y.append(data[i+window_size, 0])\n",
    "    return np.array(X), np.array(y)"
   ]
  },
  {
   "cell_type": "code",
   "execution_count": 20,
   "id": "2d6cb7d9-a655-4a6a-87d1-88ac3c0d1fae",
   "metadata": {},
   "outputs": [],
   "source": [
    "X_train, y_train = make_windowed_datasets(train_data, window_size=7, horizon_size=1)\n",
    "X_test, y_test = make_windowed_datasets(test_data, window_size=7, horizon_size=1)"
   ]
  },
  {
   "cell_type": "code",
   "execution_count": 21,
   "id": "70c6b04d-4bd5-4aa6-a3ed-b99103c31192",
   "metadata": {},
   "outputs": [
    {
     "data": {
      "text/plain": [
       "((4523, 7), (4523,), (496, 7), (496,))"
      ]
     },
     "execution_count": 21,
     "metadata": {},
     "output_type": "execute_result"
    }
   ],
   "source": [
    "X_train.shape, y_train.shape, X_test.shape, y_test.shape"
   ]
  },
  {
   "cell_type": "code",
   "execution_count": 22,
   "id": "922b8285-ac03-4cd4-bd1b-fc97aee7ad1a",
   "metadata": {},
   "outputs": [
    {
     "data": {
      "text/plain": [
       "array([0.02604613, 0.02608696, 0.0271484 , 0.02867932, 0.02941417,\n",
       "       0.02984283, 0.03031231])"
      ]
     },
     "execution_count": 22,
     "metadata": {},
     "output_type": "execute_result"
    }
   ],
   "source": [
    "X_train[0]"
   ]
  },
  {
   "cell_type": "code",
   "execution_count": 23,
   "id": "f554d447-b856-44c7-a61b-298d0c17286d",
   "metadata": {},
   "outputs": [
    {
     "name": "stdout",
     "output_type": "stream",
     "text": [
      "Input Day 1 : \n",
      " [[6.775 ]\n",
      " [6.78  ]\n",
      " [6.91  ]\n",
      " [7.0975]\n",
      " [7.1875]\n",
      " [7.24  ]\n",
      " [7.2975]]\n",
      "Output Day 1: \n",
      " [[7.2025]]\n"
     ]
    }
   ],
   "source": [
    "print(f'Input Day 1 : \\n {scaler.inverse_transform(X_train[0].reshape(-1, 1))}')\n",
    "print(f'Output Day 1: \\n {scaler.inverse_transform(y_train[0].reshape(-1, 1))}')"
   ]
  },
  {
   "cell_type": "code",
   "execution_count": 24,
   "id": "1e04b377-7e23-4894-bbee-0f98854db530",
   "metadata": {},
   "outputs": [],
   "source": [
    "# reshaping our X_train and X_test\n",
    "X_train = np.reshape(X_train, (X_train.shape[0], 1, X_train.shape[1]))\n",
    "X_test = np.reshape(X_test, (X_test.shape[0], 1, X_test.shape[1]))"
   ]
  },
  {
   "cell_type": "code",
   "execution_count": 25,
   "id": "60ab0063-522a-4c07-a6c8-14fb6a297083",
   "metadata": {},
   "outputs": [
    {
     "data": {
      "text/plain": [
       "((4523, 1, 7), (496, 1, 7))"
      ]
     },
     "execution_count": 25,
     "metadata": {},
     "output_type": "execute_result"
    }
   ],
   "source": [
    "X_train.shape, X_test.shape"
   ]
  },
  {
   "cell_type": "markdown",
   "id": "816faf5c-8858-4160-9430-b04a17c17c2e",
   "metadata": {},
   "source": [
    "## Modelling Experiments\n",
    "* Simple LSTM model\n",
    "* Complex LSTM model\n",
    "* CNN model"
   ]
  },
  {
   "cell_type": "code",
   "execution_count": 26,
   "id": "6f1d2d1f-ae9f-4839-864d-eb069fc19b8d",
   "metadata": {},
   "outputs": [],
   "source": [
    "import os\n",
    "\n",
    "# Create a function to implement a ModelCheckpoint callback with a specific filename\n",
    "def create_model_checkpoint(model_name, save_path=\"model_experiments\"):\n",
    "  return tf.keras.callbacks.ModelCheckpoint(filepath=os.path.join(save_path, model_name), # create filepath to save model\n",
    "                                            verbose=0, # only output a limited amount of text\n",
    "                                            save_best_only=True) # save only the best model to file"
   ]
  },
  {
   "cell_type": "code",
   "execution_count": 27,
   "id": "1b6012da-6028-4728-96ee-3ed1b3fa1951",
   "metadata": {},
   "outputs": [],
   "source": [
    "import tensorflow as tf\n",
    "from tensorflow import keras\n",
    "from keras.models import Sequential\n",
    "from keras.layers import LSTM, Conv1D, MaxPooling1D, Flatten, Dense, Dropout"
   ]
  },
  {
   "cell_type": "code",
   "execution_count": 28,
   "id": "6a1cabb7-2fa8-4e87-8fd0-a162de49e8f0",
   "metadata": {},
   "outputs": [],
   "source": [
    "model1 = Sequential()\n",
    "model1.add(LSTM(64, activation='relu', return_sequences=True, input_shape=(1, 7)))\n",
    "model1.add(LSTM(64, activation='relu'))\n",
    "\n",
    "model1.add(Dense(64, activation='relu'))\n",
    "model1.add(Dense(32, activation='relu'))\n",
    "model1.add(Dense(1, activation='linear'))\n",
    "\n",
    "# compiling our model\n",
    "model1.compile(\n",
    "    loss='mse',\n",
    "    optimizer=tf.keras.optimizers.Adam(),\n",
    "    metrics=['mse']\n",
    ")"
   ]
  },
  {
   "cell_type": "code",
   "execution_count": 29,
   "id": "9636f587-6d3d-4efc-98ae-c1e8811af964",
   "metadata": {},
   "outputs": [
    {
     "name": "stdout",
     "output_type": "stream",
     "text": [
      "Model: \"sequential\"\n",
      "_________________________________________________________________\n",
      " Layer (type)                Output Shape              Param #   \n",
      "=================================================================\n",
      " lstm (LSTM)                 (None, 1, 64)             18432     \n",
      "                                                                 \n",
      " lstm_1 (LSTM)               (None, 64)                33024     \n",
      "                                                                 \n",
      " dense (Dense)               (None, 64)                4160      \n",
      "                                                                 \n",
      " dense_1 (Dense)             (None, 32)                2080      \n",
      "                                                                 \n",
      " dense_2 (Dense)             (None, 1)                 33        \n",
      "                                                                 \n",
      "=================================================================\n",
      "Total params: 57,729\n",
      "Trainable params: 57,729\n",
      "Non-trainable params: 0\n",
      "_________________________________________________________________\n"
     ]
    }
   ],
   "source": [
    "model1.summary()"
   ]
  },
  {
   "cell_type": "code",
   "execution_count": 30,
   "id": "9cd1f038-3004-474d-b0c1-8682915eb8ec",
   "metadata": {},
   "outputs": [
    {
     "name": "stdout",
     "output_type": "stream",
     "text": [
      "Epoch 1/100\n",
      "129/142 [==========================>...] - ETA: 0s - loss: 0.0227 - mse: 0.0227"
     ]
    },
    {
     "name": "stderr",
     "output_type": "stream",
     "text": [
      "WARNING:absl:Found untraced functions such as _update_step_xla while saving (showing 1 of 1). These functions will not be directly callable after loading.\n"
     ]
    },
    {
     "name": "stdout",
     "output_type": "stream",
     "text": [
      "INFO:tensorflow:Assets written to: model_experiments\\Simple_LSTM_model\\assets\n"
     ]
    },
    {
     "name": "stderr",
     "output_type": "stream",
     "text": [
      "INFO:tensorflow:Assets written to: model_experiments\\Simple_LSTM_model\\assets\n"
     ]
    },
    {
     "name": "stdout",
     "output_type": "stream",
     "text": [
      "142/142 [==============================] - 7s 30ms/step - loss: 0.0207 - mse: 0.0207 - val_loss: 8.7586e-04 - val_mse: 8.7586e-04\n",
      "Epoch 2/100\n",
      "129/142 [==========================>...] - ETA: 0s - loss: 1.3603e-04 - mse: 1.3603e-04"
     ]
    },
    {
     "name": "stderr",
     "output_type": "stream",
     "text": [
      "WARNING:absl:Found untraced functions such as _update_step_xla while saving (showing 1 of 1). These functions will not be directly callable after loading.\n"
     ]
    },
    {
     "name": "stdout",
     "output_type": "stream",
     "text": [
      "INFO:tensorflow:Assets written to: model_experiments\\Simple_LSTM_model\\assets\n"
     ]
    },
    {
     "name": "stderr",
     "output_type": "stream",
     "text": [
      "INFO:tensorflow:Assets written to: model_experiments\\Simple_LSTM_model\\assets\n"
     ]
    },
    {
     "name": "stdout",
     "output_type": "stream",
     "text": [
      "142/142 [==============================] - 4s 25ms/step - loss: 1.3474e-04 - mse: 1.3474e-04 - val_loss: 6.1406e-04 - val_mse: 6.1406e-04\n",
      "Epoch 3/100\n",
      "141/142 [============================>.] - ETA: 0s - loss: 1.0410e-04 - mse: 1.0410e-04"
     ]
    },
    {
     "name": "stderr",
     "output_type": "stream",
     "text": [
      "WARNING:absl:Found untraced functions such as _update_step_xla while saving (showing 1 of 1). These functions will not be directly callable after loading.\n"
     ]
    },
    {
     "name": "stdout",
     "output_type": "stream",
     "text": [
      "INFO:tensorflow:Assets written to: model_experiments\\Simple_LSTM_model\\assets\n"
     ]
    },
    {
     "name": "stderr",
     "output_type": "stream",
     "text": [
      "INFO:tensorflow:Assets written to: model_experiments\\Simple_LSTM_model\\assets\n"
     ]
    },
    {
     "name": "stdout",
     "output_type": "stream",
     "text": [
      "142/142 [==============================] - 4s 26ms/step - loss: 1.0417e-04 - mse: 1.0417e-04 - val_loss: 5.2777e-04 - val_mse: 5.2777e-04\n",
      "Epoch 4/100\n",
      "131/142 [==========================>...] - ETA: 0s - loss: 1.0510e-04 - mse: 1.0510e-04"
     ]
    },
    {
     "name": "stderr",
     "output_type": "stream",
     "text": [
      "WARNING:absl:Found untraced functions such as _update_step_xla while saving (showing 1 of 1). These functions will not be directly callable after loading.\n"
     ]
    },
    {
     "name": "stdout",
     "output_type": "stream",
     "text": [
      "INFO:tensorflow:Assets written to: model_experiments\\Simple_LSTM_model\\assets\n"
     ]
    },
    {
     "name": "stderr",
     "output_type": "stream",
     "text": [
      "INFO:tensorflow:Assets written to: model_experiments\\Simple_LSTM_model\\assets\n"
     ]
    },
    {
     "name": "stdout",
     "output_type": "stream",
     "text": [
      "142/142 [==============================] - 3s 25ms/step - loss: 1.0379e-04 - mse: 1.0379e-04 - val_loss: 5.1127e-04 - val_mse: 5.1127e-04\n",
      "Epoch 5/100\n",
      "142/142 [==============================] - 1s 4ms/step - loss: 1.0299e-04 - mse: 1.0299e-04 - val_loss: 6.4615e-04 - val_mse: 6.4615e-04\n",
      "Epoch 6/100\n",
      "127/142 [=========================>....] - ETA: 0s - loss: 9.5549e-05 - mse: 9.5549e-05"
     ]
    },
    {
     "name": "stderr",
     "output_type": "stream",
     "text": [
      "WARNING:absl:Found untraced functions such as _update_step_xla while saving (showing 1 of 1). These functions will not be directly callable after loading.\n"
     ]
    },
    {
     "name": "stdout",
     "output_type": "stream",
     "text": [
      "INFO:tensorflow:Assets written to: model_experiments\\Simple_LSTM_model\\assets\n"
     ]
    },
    {
     "name": "stderr",
     "output_type": "stream",
     "text": [
      "INFO:tensorflow:Assets written to: model_experiments\\Simple_LSTM_model\\assets\n"
     ]
    },
    {
     "name": "stdout",
     "output_type": "stream",
     "text": [
      "142/142 [==============================] - 4s 26ms/step - loss: 9.3355e-05 - mse: 9.3355e-05 - val_loss: 4.8767e-04 - val_mse: 4.8767e-04\n",
      "Epoch 7/100\n",
      "142/142 [==============================] - 1s 4ms/step - loss: 9.4107e-05 - mse: 9.4107e-05 - val_loss: 5.4309e-04 - val_mse: 5.4309e-04\n",
      "Epoch 8/100\n",
      "142/142 [==============================] - 1s 4ms/step - loss: 9.8004e-05 - mse: 9.8004e-05 - val_loss: 5.3470e-04 - val_mse: 5.3470e-04\n",
      "Epoch 9/100\n",
      "142/142 [==============================] - 1s 4ms/step - loss: 9.5641e-05 - mse: 9.5641e-05 - val_loss: 5.8359e-04 - val_mse: 5.8359e-04\n",
      "Epoch 10/100\n",
      "140/142 [============================>.] - ETA: 0s - loss: 8.7145e-05 - mse: 8.7145e-05"
     ]
    },
    {
     "name": "stderr",
     "output_type": "stream",
     "text": [
      "WARNING:absl:Found untraced functions such as _update_step_xla while saving (showing 1 of 1). These functions will not be directly callable after loading.\n"
     ]
    },
    {
     "name": "stdout",
     "output_type": "stream",
     "text": [
      "INFO:tensorflow:Assets written to: model_experiments\\Simple_LSTM_model\\assets\n"
     ]
    },
    {
     "name": "stderr",
     "output_type": "stream",
     "text": [
      "INFO:tensorflow:Assets written to: model_experiments\\Simple_LSTM_model\\assets\n"
     ]
    },
    {
     "name": "stdout",
     "output_type": "stream",
     "text": [
      "142/142 [==============================] - 3s 24ms/step - loss: 8.7173e-05 - mse: 8.7173e-05 - val_loss: 4.0045e-04 - val_mse: 4.0045e-04\n",
      "Epoch 11/100\n",
      "142/142 [==============================] - 1s 4ms/step - loss: 8.7691e-05 - mse: 8.7691e-05 - val_loss: 4.4014e-04 - val_mse: 4.4014e-04\n",
      "Epoch 12/100\n",
      "127/142 [=========================>....] - ETA: 0s - loss: 8.8671e-05 - mse: 8.8671e-05"
     ]
    },
    {
     "name": "stderr",
     "output_type": "stream",
     "text": [
      "WARNING:absl:Found untraced functions such as _update_step_xla while saving (showing 1 of 1). These functions will not be directly callable after loading.\n"
     ]
    },
    {
     "name": "stdout",
     "output_type": "stream",
     "text": [
      "INFO:tensorflow:Assets written to: model_experiments\\Simple_LSTM_model\\assets\n"
     ]
    },
    {
     "name": "stderr",
     "output_type": "stream",
     "text": [
      "INFO:tensorflow:Assets written to: model_experiments\\Simple_LSTM_model\\assets\n"
     ]
    },
    {
     "name": "stdout",
     "output_type": "stream",
     "text": [
      "142/142 [==============================] - 4s 25ms/step - loss: 8.8637e-05 - mse: 8.8637e-05 - val_loss: 3.9571e-04 - val_mse: 3.9571e-04\n",
      "Epoch 13/100\n",
      "142/142 [==============================] - 1s 4ms/step - loss: 8.8343e-05 - mse: 8.8343e-05 - val_loss: 4.5876e-04 - val_mse: 4.5876e-04\n",
      "Epoch 14/100\n",
      "142/142 [==============================] - 1s 4ms/step - loss: 7.6886e-05 - mse: 7.6886e-05 - val_loss: 8.2979e-04 - val_mse: 8.2979e-04\n",
      "Epoch 15/100\n",
      "142/142 [==============================] - 1s 4ms/step - loss: 1.0130e-04 - mse: 1.0130e-04 - val_loss: 5.0229e-04 - val_mse: 5.0229e-04\n",
      "Epoch 16/100\n",
      "141/142 [============================>.] - ETA: 0s - loss: 7.5623e-05 - mse: 7.5623e-05"
     ]
    },
    {
     "name": "stderr",
     "output_type": "stream",
     "text": [
      "WARNING:absl:Found untraced functions such as _update_step_xla while saving (showing 1 of 1). These functions will not be directly callable after loading.\n"
     ]
    },
    {
     "name": "stdout",
     "output_type": "stream",
     "text": [
      "INFO:tensorflow:Assets written to: model_experiments\\Simple_LSTM_model\\assets\n"
     ]
    },
    {
     "name": "stderr",
     "output_type": "stream",
     "text": [
      "INFO:tensorflow:Assets written to: model_experiments\\Simple_LSTM_model\\assets\n"
     ]
    },
    {
     "name": "stdout",
     "output_type": "stream",
     "text": [
      "142/142 [==============================] - 3s 24ms/step - loss: 7.5461e-05 - mse: 7.5461e-05 - val_loss: 3.3709e-04 - val_mse: 3.3709e-04\n",
      "Epoch 17/100\n",
      "142/142 [==============================] - 1s 4ms/step - loss: 7.2909e-05 - mse: 7.2909e-05 - val_loss: 4.3247e-04 - val_mse: 4.3247e-04\n",
      "Epoch 18/100\n",
      "142/142 [==============================] - 1s 4ms/step - loss: 8.7845e-05 - mse: 8.7845e-05 - val_loss: 4.2648e-04 - val_mse: 4.2648e-04\n",
      "Epoch 19/100\n",
      "142/142 [==============================] - 1s 4ms/step - loss: 6.7510e-05 - mse: 6.7510e-05 - val_loss: 3.4607e-04 - val_mse: 3.4607e-04\n",
      "Epoch 20/100\n",
      "139/142 [============================>.] - ETA: 0s - loss: 6.1362e-05 - mse: 6.1362e-05"
     ]
    },
    {
     "name": "stderr",
     "output_type": "stream",
     "text": [
      "WARNING:absl:Found untraced functions such as _update_step_xla while saving (showing 1 of 1). These functions will not be directly callable after loading.\n"
     ]
    },
    {
     "name": "stdout",
     "output_type": "stream",
     "text": [
      "INFO:tensorflow:Assets written to: model_experiments\\Simple_LSTM_model\\assets\n"
     ]
    },
    {
     "name": "stderr",
     "output_type": "stream",
     "text": [
      "INFO:tensorflow:Assets written to: model_experiments\\Simple_LSTM_model\\assets\n"
     ]
    },
    {
     "name": "stdout",
     "output_type": "stream",
     "text": [
      "142/142 [==============================] - 4s 27ms/step - loss: 6.1859e-05 - mse: 6.1859e-05 - val_loss: 2.9040e-04 - val_mse: 2.9040e-04\n",
      "Epoch 21/100\n",
      "142/142 [==============================] - 1s 4ms/step - loss: 7.3713e-05 - mse: 7.3713e-05 - val_loss: 3.6137e-04 - val_mse: 3.6137e-04\n",
      "Epoch 22/100\n",
      "142/142 [==============================] - 1s 4ms/step - loss: 8.4462e-05 - mse: 8.4462e-05 - val_loss: 2.9728e-04 - val_mse: 2.9728e-04\n",
      "Epoch 23/100\n",
      "142/142 [==============================] - ETA: 0s - loss: 8.0394e-05 - mse: 8.0394e-05"
     ]
    },
    {
     "name": "stderr",
     "output_type": "stream",
     "text": [
      "WARNING:absl:Found untraced functions such as _update_step_xla while saving (showing 1 of 1). These functions will not be directly callable after loading.\n"
     ]
    },
    {
     "name": "stdout",
     "output_type": "stream",
     "text": [
      "INFO:tensorflow:Assets written to: model_experiments\\Simple_LSTM_model\\assets\n"
     ]
    },
    {
     "name": "stderr",
     "output_type": "stream",
     "text": [
      "INFO:tensorflow:Assets written to: model_experiments\\Simple_LSTM_model\\assets\n"
     ]
    },
    {
     "name": "stdout",
     "output_type": "stream",
     "text": [
      "142/142 [==============================] - 3s 24ms/step - loss: 8.0394e-05 - mse: 8.0394e-05 - val_loss: 2.7845e-04 - val_mse: 2.7845e-04\n",
      "Epoch 24/100\n",
      "142/142 [==============================] - 1s 4ms/step - loss: 7.9471e-05 - mse: 7.9471e-05 - val_loss: 3.4924e-04 - val_mse: 3.4924e-04\n",
      "Epoch 25/100\n",
      "142/142 [==============================] - 1s 4ms/step - loss: 6.9981e-05 - mse: 6.9981e-05 - val_loss: 4.7577e-04 - val_mse: 4.7577e-04\n",
      "Epoch 26/100\n",
      "139/142 [============================>.] - ETA: 0s - loss: 6.2875e-05 - mse: 6.2875e-05"
     ]
    },
    {
     "name": "stderr",
     "output_type": "stream",
     "text": [
      "WARNING:absl:Found untraced functions such as _update_step_xla while saving (showing 1 of 1). These functions will not be directly callable after loading.\n"
     ]
    },
    {
     "name": "stdout",
     "output_type": "stream",
     "text": [
      "INFO:tensorflow:Assets written to: model_experiments\\Simple_LSTM_model\\assets\n"
     ]
    },
    {
     "name": "stderr",
     "output_type": "stream",
     "text": [
      "INFO:tensorflow:Assets written to: model_experiments\\Simple_LSTM_model\\assets\n"
     ]
    },
    {
     "name": "stdout",
     "output_type": "stream",
     "text": [
      "142/142 [==============================] - 3s 24ms/step - loss: 6.3484e-05 - mse: 6.3484e-05 - val_loss: 2.7722e-04 - val_mse: 2.7722e-04\n",
      "Epoch 27/100\n",
      "142/142 [==============================] - 1s 4ms/step - loss: 5.8489e-05 - mse: 5.8489e-05 - val_loss: 2.8233e-04 - val_mse: 2.8233e-04\n",
      "Epoch 28/100\n",
      "142/142 [==============================] - 1s 4ms/step - loss: 6.6674e-05 - mse: 6.6674e-05 - val_loss: 4.0558e-04 - val_mse: 4.0558e-04\n",
      "Epoch 29/100\n",
      "137/142 [===========================>..] - ETA: 0s - loss: 7.1151e-05 - mse: 7.1151e-05"
     ]
    },
    {
     "name": "stderr",
     "output_type": "stream",
     "text": [
      "WARNING:absl:Found untraced functions such as _update_step_xla while saving (showing 1 of 1). These functions will not be directly callable after loading.\n"
     ]
    },
    {
     "name": "stdout",
     "output_type": "stream",
     "text": [
      "INFO:tensorflow:Assets written to: model_experiments\\Simple_LSTM_model\\assets\n"
     ]
    },
    {
     "name": "stderr",
     "output_type": "stream",
     "text": [
      "INFO:tensorflow:Assets written to: model_experiments\\Simple_LSTM_model\\assets\n"
     ]
    },
    {
     "name": "stdout",
     "output_type": "stream",
     "text": [
      "142/142 [==============================] - 4s 26ms/step - loss: 7.0025e-05 - mse: 7.0025e-05 - val_loss: 2.6345e-04 - val_mse: 2.6345e-04\n",
      "Epoch 30/100\n",
      "142/142 [==============================] - 1s 4ms/step - loss: 5.9341e-05 - mse: 5.9341e-05 - val_loss: 5.4293e-04 - val_mse: 5.4293e-04\n",
      "Epoch 31/100\n",
      "142/142 [==============================] - 1s 4ms/step - loss: 7.6658e-05 - mse: 7.6658e-05 - val_loss: 3.5687e-04 - val_mse: 3.5687e-04\n",
      "Epoch 32/100\n",
      "141/142 [============================>.] - ETA: 0s - loss: 6.5986e-05 - mse: 6.5986e-05"
     ]
    },
    {
     "name": "stderr",
     "output_type": "stream",
     "text": [
      "WARNING:absl:Found untraced functions such as _update_step_xla while saving (showing 1 of 1). These functions will not be directly callable after loading.\n"
     ]
    },
    {
     "name": "stdout",
     "output_type": "stream",
     "text": [
      "INFO:tensorflow:Assets written to: model_experiments\\Simple_LSTM_model\\assets\n"
     ]
    },
    {
     "name": "stderr",
     "output_type": "stream",
     "text": [
      "INFO:tensorflow:Assets written to: model_experiments\\Simple_LSTM_model\\assets\n"
     ]
    },
    {
     "name": "stdout",
     "output_type": "stream",
     "text": [
      "142/142 [==============================] - 3s 24ms/step - loss: 6.5874e-05 - mse: 6.5874e-05 - val_loss: 2.5750e-04 - val_mse: 2.5750e-04\n",
      "Epoch 33/100\n",
      "142/142 [==============================] - 1s 4ms/step - loss: 6.0393e-05 - mse: 6.0393e-05 - val_loss: 3.1050e-04 - val_mse: 3.1050e-04\n",
      "Epoch 34/100\n",
      "142/142 [==============================] - 1s 4ms/step - loss: 7.6993e-05 - mse: 7.6993e-05 - val_loss: 2.5921e-04 - val_mse: 2.5921e-04\n",
      "Epoch 35/100\n",
      "142/142 [==============================] - 1s 4ms/step - loss: 7.3650e-05 - mse: 7.3650e-05 - val_loss: 4.1827e-04 - val_mse: 4.1827e-04\n",
      "Epoch 36/100\n",
      "142/142 [==============================] - 1s 4ms/step - loss: 6.2446e-05 - mse: 6.2446e-05 - val_loss: 3.6163e-04 - val_mse: 3.6163e-04\n",
      "Epoch 37/100\n",
      "142/142 [==============================] - 1s 4ms/step - loss: 7.8164e-05 - mse: 7.8164e-05 - val_loss: 2.7164e-04 - val_mse: 2.7164e-04\n",
      "Epoch 38/100\n",
      "142/142 [==============================] - 1s 4ms/step - loss: 6.5959e-05 - mse: 6.5959e-05 - val_loss: 2.6857e-04 - val_mse: 2.6857e-04\n",
      "Epoch 39/100\n",
      "142/142 [==============================] - 1s 4ms/step - loss: 6.2937e-05 - mse: 6.2937e-05 - val_loss: 3.3308e-04 - val_mse: 3.3308e-04\n",
      "Epoch 40/100\n",
      "142/142 [==============================] - 1s 4ms/step - loss: 6.5394e-05 - mse: 6.5394e-05 - val_loss: 3.6499e-04 - val_mse: 3.6499e-04\n",
      "Epoch 41/100\n",
      "142/142 [==============================] - 1s 4ms/step - loss: 5.8964e-05 - mse: 5.8964e-05 - val_loss: 2.6506e-04 - val_mse: 2.6506e-04\n",
      "Epoch 42/100\n",
      "142/142 [==============================] - 0s 3ms/step - loss: 6.1225e-05 - mse: 6.1225e-05 - val_loss: 3.7490e-04 - val_mse: 3.7490e-04\n",
      "Epoch 43/100\n",
      "129/142 [==========================>...] - ETA: 0s - loss: 6.0191e-05 - mse: 6.0191e-05"
     ]
    },
    {
     "name": "stderr",
     "output_type": "stream",
     "text": [
      "WARNING:absl:Found untraced functions such as _update_step_xla while saving (showing 1 of 1). These functions will not be directly callable after loading.\n"
     ]
    },
    {
     "name": "stdout",
     "output_type": "stream",
     "text": [
      "INFO:tensorflow:Assets written to: model_experiments\\Simple_LSTM_model\\assets\n"
     ]
    },
    {
     "name": "stderr",
     "output_type": "stream",
     "text": [
      "INFO:tensorflow:Assets written to: model_experiments\\Simple_LSTM_model\\assets\n"
     ]
    },
    {
     "name": "stdout",
     "output_type": "stream",
     "text": [
      "142/142 [==============================] - 4s 25ms/step - loss: 5.9631e-05 - mse: 5.9631e-05 - val_loss: 2.4878e-04 - val_mse: 2.4878e-04\n",
      "Epoch 44/100\n",
      "142/142 [==============================] - 1s 4ms/step - loss: 6.7087e-05 - mse: 6.7087e-05 - val_loss: 3.8773e-04 - val_mse: 3.8773e-04\n",
      "Epoch 45/100\n",
      "142/142 [==============================] - 1s 4ms/step - loss: 5.7854e-05 - mse: 5.7854e-05 - val_loss: 3.3336e-04 - val_mse: 3.3336e-04\n",
      "Epoch 46/100\n",
      "142/142 [==============================] - 1s 4ms/step - loss: 5.9819e-05 - mse: 5.9819e-05 - val_loss: 2.7025e-04 - val_mse: 2.7025e-04\n",
      "Epoch 47/100\n",
      "142/142 [==============================] - 1s 4ms/step - loss: 5.9150e-05 - mse: 5.9150e-05 - val_loss: 3.1780e-04 - val_mse: 3.1780e-04\n",
      "Epoch 48/100\n",
      "142/142 [==============================] - 1s 4ms/step - loss: 6.6488e-05 - mse: 6.6488e-05 - val_loss: 7.8503e-04 - val_mse: 7.8503e-04\n",
      "Epoch 49/100\n",
      "142/142 [==============================] - 1s 4ms/step - loss: 9.0878e-05 - mse: 9.0878e-05 - val_loss: 2.7148e-04 - val_mse: 2.7148e-04\n",
      "Epoch 50/100\n",
      "142/142 [==============================] - 1s 4ms/step - loss: 5.1462e-05 - mse: 5.1462e-05 - val_loss: 2.8133e-04 - val_mse: 2.8133e-04\n",
      "Epoch 51/100\n",
      "142/142 [==============================] - 1s 4ms/step - loss: 5.9700e-05 - mse: 5.9700e-05 - val_loss: 3.2256e-04 - val_mse: 3.2256e-04\n",
      "Epoch 52/100\n",
      "142/142 [==============================] - 1s 4ms/step - loss: 6.7592e-05 - mse: 6.7592e-05 - val_loss: 2.5095e-04 - val_mse: 2.5095e-04\n",
      "Epoch 53/100\n",
      "142/142 [==============================] - 1s 4ms/step - loss: 5.4217e-05 - mse: 5.4217e-05 - val_loss: 3.0787e-04 - val_mse: 3.0787e-04\n",
      "Epoch 54/100\n",
      "142/142 [==============================] - 1s 4ms/step - loss: 6.4746e-05 - mse: 6.4746e-05 - val_loss: 2.5567e-04 - val_mse: 2.5567e-04\n",
      "Epoch 55/100\n",
      "142/142 [==============================] - 1s 4ms/step - loss: 5.7629e-05 - mse: 5.7629e-05 - val_loss: 2.6415e-04 - val_mse: 2.6415e-04\n",
      "Epoch 56/100\n",
      "141/142 [============================>.] - ETA: 0s - loss: 5.3440e-05 - mse: 5.3440e-05"
     ]
    },
    {
     "name": "stderr",
     "output_type": "stream",
     "text": [
      "WARNING:absl:Found untraced functions such as _update_step_xla while saving (showing 1 of 1). These functions will not be directly callable after loading.\n"
     ]
    },
    {
     "name": "stdout",
     "output_type": "stream",
     "text": [
      "INFO:tensorflow:Assets written to: model_experiments\\Simple_LSTM_model\\assets\n"
     ]
    },
    {
     "name": "stderr",
     "output_type": "stream",
     "text": [
      "INFO:tensorflow:Assets written to: model_experiments\\Simple_LSTM_model\\assets\n"
     ]
    },
    {
     "name": "stdout",
     "output_type": "stream",
     "text": [
      "142/142 [==============================] - 4s 25ms/step - loss: 5.3368e-05 - mse: 5.3368e-05 - val_loss: 2.3838e-04 - val_mse: 2.3838e-04\n",
      "Epoch 57/100\n",
      "142/142 [==============================] - 1s 4ms/step - loss: 5.9458e-05 - mse: 5.9458e-05 - val_loss: 2.8721e-04 - val_mse: 2.8721e-04\n",
      "Epoch 58/100\n",
      "142/142 [==============================] - 1s 4ms/step - loss: 5.8692e-05 - mse: 5.8692e-05 - val_loss: 3.8564e-04 - val_mse: 3.8564e-04\n",
      "Epoch 59/100\n",
      "142/142 [==============================] - 1s 4ms/step - loss: 6.3451e-05 - mse: 6.3451e-05 - val_loss: 7.2445e-04 - val_mse: 7.2445e-04\n",
      "Epoch 60/100\n",
      "142/142 [==============================] - 1s 4ms/step - loss: 5.8749e-05 - mse: 5.8749e-05 - val_loss: 4.0848e-04 - val_mse: 4.0848e-04\n",
      "Epoch 61/100\n",
      "142/142 [==============================] - 1s 4ms/step - loss: 7.3684e-05 - mse: 7.3684e-05 - val_loss: 2.8030e-04 - val_mse: 2.8030e-04\n",
      "Epoch 62/100\n",
      "141/142 [============================>.] - ETA: 0s - loss: 5.2414e-05 - mse: 5.2414e-05"
     ]
    },
    {
     "name": "stderr",
     "output_type": "stream",
     "text": [
      "WARNING:absl:Found untraced functions such as _update_step_xla while saving (showing 1 of 1). These functions will not be directly callable after loading.\n"
     ]
    },
    {
     "name": "stdout",
     "output_type": "stream",
     "text": [
      "INFO:tensorflow:Assets written to: model_experiments\\Simple_LSTM_model\\assets\n"
     ]
    },
    {
     "name": "stderr",
     "output_type": "stream",
     "text": [
      "INFO:tensorflow:Assets written to: model_experiments\\Simple_LSTM_model\\assets\n"
     ]
    },
    {
     "name": "stdout",
     "output_type": "stream",
     "text": [
      "142/142 [==============================] - 4s 26ms/step - loss: 5.2342e-05 - mse: 5.2342e-05 - val_loss: 2.3637e-04 - val_mse: 2.3637e-04\n",
      "Epoch 63/100\n",
      "140/142 [============================>.] - ETA: 0s - loss: 6.3255e-05 - mse: 6.3255e-05"
     ]
    },
    {
     "name": "stderr",
     "output_type": "stream",
     "text": [
      "WARNING:absl:Found untraced functions such as _update_step_xla while saving (showing 1 of 1). These functions will not be directly callable after loading.\n"
     ]
    },
    {
     "name": "stdout",
     "output_type": "stream",
     "text": [
      "INFO:tensorflow:Assets written to: model_experiments\\Simple_LSTM_model\\assets\n"
     ]
    },
    {
     "name": "stderr",
     "output_type": "stream",
     "text": [
      "INFO:tensorflow:Assets written to: model_experiments\\Simple_LSTM_model\\assets\n"
     ]
    },
    {
     "name": "stdout",
     "output_type": "stream",
     "text": [
      "142/142 [==============================] - 4s 27ms/step - loss: 6.3540e-05 - mse: 6.3540e-05 - val_loss: 2.3525e-04 - val_mse: 2.3525e-04\n",
      "Epoch 64/100\n",
      "141/142 [============================>.] - ETA: 0s - loss: 5.7196e-05 - mse: 5.7196e-05"
     ]
    },
    {
     "name": "stderr",
     "output_type": "stream",
     "text": [
      "WARNING:absl:Found untraced functions such as _update_step_xla while saving (showing 1 of 1). These functions will not be directly callable after loading.\n"
     ]
    },
    {
     "name": "stdout",
     "output_type": "stream",
     "text": [
      "INFO:tensorflow:Assets written to: model_experiments\\Simple_LSTM_model\\assets\n"
     ]
    },
    {
     "name": "stderr",
     "output_type": "stream",
     "text": [
      "INFO:tensorflow:Assets written to: model_experiments\\Simple_LSTM_model\\assets\n"
     ]
    },
    {
     "name": "stdout",
     "output_type": "stream",
     "text": [
      "142/142 [==============================] - 3s 24ms/step - loss: 5.7261e-05 - mse: 5.7261e-05 - val_loss: 2.3377e-04 - val_mse: 2.3377e-04\n",
      "Epoch 65/100\n",
      "142/142 [==============================] - 1s 4ms/step - loss: 6.3542e-05 - mse: 6.3542e-05 - val_loss: 2.6424e-04 - val_mse: 2.6424e-04\n",
      "Epoch 66/100\n",
      "142/142 [==============================] - 1s 4ms/step - loss: 5.3660e-05 - mse: 5.3660e-05 - val_loss: 5.6734e-04 - val_mse: 5.6734e-04\n",
      "Epoch 67/100\n",
      "142/142 [==============================] - 1s 4ms/step - loss: 6.5001e-05 - mse: 6.5001e-05 - val_loss: 2.4472e-04 - val_mse: 2.4472e-04\n",
      "Epoch 68/100\n",
      "142/142 [==============================] - 1s 4ms/step - loss: 5.2739e-05 - mse: 5.2739e-05 - val_loss: 2.5613e-04 - val_mse: 2.5613e-04\n",
      "Epoch 69/100\n",
      "142/142 [==============================] - 1s 4ms/step - loss: 5.2332e-05 - mse: 5.2332e-05 - val_loss: 2.7091e-04 - val_mse: 2.7091e-04\n",
      "Epoch 70/100\n",
      "142/142 [==============================] - 1s 4ms/step - loss: 6.1996e-05 - mse: 6.1996e-05 - val_loss: 2.5851e-04 - val_mse: 2.5851e-04\n",
      "Epoch 71/100\n",
      "142/142 [==============================] - 1s 4ms/step - loss: 5.8005e-05 - mse: 5.8005e-05 - val_loss: 5.3188e-04 - val_mse: 5.3188e-04\n",
      "Epoch 72/100\n",
      "142/142 [==============================] - ETA: 0s - loss: 5.9184e-05 - mse: 5.9184e-05"
     ]
    },
    {
     "name": "stderr",
     "output_type": "stream",
     "text": [
      "WARNING:absl:Found untraced functions such as _update_step_xla while saving (showing 1 of 1). These functions will not be directly callable after loading.\n"
     ]
    },
    {
     "name": "stdout",
     "output_type": "stream",
     "text": [
      "INFO:tensorflow:Assets written to: model_experiments\\Simple_LSTM_model\\assets\n"
     ]
    },
    {
     "name": "stderr",
     "output_type": "stream",
     "text": [
      "INFO:tensorflow:Assets written to: model_experiments\\Simple_LSTM_model\\assets\n"
     ]
    },
    {
     "name": "stdout",
     "output_type": "stream",
     "text": [
      "142/142 [==============================] - 4s 25ms/step - loss: 5.9184e-05 - mse: 5.9184e-05 - val_loss: 2.3201e-04 - val_mse: 2.3201e-04\n",
      "Epoch 73/100\n",
      "142/142 [==============================] - 1s 4ms/step - loss: 7.5443e-05 - mse: 7.5443e-05 - val_loss: 3.8440e-04 - val_mse: 3.8440e-04\n",
      "Epoch 74/100\n",
      "142/142 [==============================] - 1s 4ms/step - loss: 5.3910e-05 - mse: 5.3910e-05 - val_loss: 3.0173e-04 - val_mse: 3.0173e-04\n",
      "Epoch 75/100\n",
      "142/142 [==============================] - 1s 4ms/step - loss: 5.2780e-05 - mse: 5.2780e-05 - val_loss: 2.5369e-04 - val_mse: 2.5369e-04\n",
      "Epoch 76/100\n",
      "142/142 [==============================] - 1s 4ms/step - loss: 5.4158e-05 - mse: 5.4158e-05 - val_loss: 3.9415e-04 - val_mse: 3.9415e-04\n",
      "Epoch 77/100\n",
      "142/142 [==============================] - ETA: 0s - loss: 5.3901e-05 - mse: 5.3901e-05"
     ]
    },
    {
     "name": "stderr",
     "output_type": "stream",
     "text": [
      "WARNING:absl:Found untraced functions such as _update_step_xla while saving (showing 1 of 1). These functions will not be directly callable after loading.\n"
     ]
    },
    {
     "name": "stdout",
     "output_type": "stream",
     "text": [
      "INFO:tensorflow:Assets written to: model_experiments\\Simple_LSTM_model\\assets\n"
     ]
    },
    {
     "name": "stderr",
     "output_type": "stream",
     "text": [
      "INFO:tensorflow:Assets written to: model_experiments\\Simple_LSTM_model\\assets\n"
     ]
    },
    {
     "name": "stdout",
     "output_type": "stream",
     "text": [
      "142/142 [==============================] - 4s 26ms/step - loss: 5.3901e-05 - mse: 5.3901e-05 - val_loss: 2.2922e-04 - val_mse: 2.2922e-04\n",
      "Epoch 78/100\n",
      "142/142 [==============================] - 1s 4ms/step - loss: 5.1432e-05 - mse: 5.1432e-05 - val_loss: 3.1644e-04 - val_mse: 3.1644e-04\n",
      "Epoch 79/100\n",
      "142/142 [==============================] - 1s 4ms/step - loss: 5.3335e-05 - mse: 5.3335e-05 - val_loss: 2.4413e-04 - val_mse: 2.4413e-04\n",
      "Epoch 80/100\n",
      "142/142 [==============================] - 1s 4ms/step - loss: 6.9321e-05 - mse: 6.9321e-05 - val_loss: 5.8156e-04 - val_mse: 5.8156e-04\n",
      "Epoch 81/100\n",
      "142/142 [==============================] - 1s 4ms/step - loss: 5.6235e-05 - mse: 5.6235e-05 - val_loss: 2.3493e-04 - val_mse: 2.3493e-04\n",
      "Epoch 82/100\n",
      "142/142 [==============================] - 1s 4ms/step - loss: 5.8016e-05 - mse: 5.8016e-05 - val_loss: 2.6107e-04 - val_mse: 2.6107e-04\n",
      "Epoch 83/100\n",
      "142/142 [==============================] - 1s 4ms/step - loss: 5.4934e-05 - mse: 5.4934e-05 - val_loss: 3.1098e-04 - val_mse: 3.1098e-04\n",
      "Epoch 84/100\n",
      "142/142 [==============================] - 1s 4ms/step - loss: 7.5384e-05 - mse: 7.5384e-05 - val_loss: 2.7627e-04 - val_mse: 2.7627e-04\n",
      "Epoch 85/100\n",
      "138/142 [============================>.] - ETA: 0s - loss: 5.6320e-05 - mse: 5.6320e-05"
     ]
    },
    {
     "name": "stderr",
     "output_type": "stream",
     "text": [
      "WARNING:absl:Found untraced functions such as _update_step_xla while saving (showing 1 of 1). These functions will not be directly callable after loading.\n"
     ]
    },
    {
     "name": "stdout",
     "output_type": "stream",
     "text": [
      "INFO:tensorflow:Assets written to: model_experiments\\Simple_LSTM_model\\assets\n"
     ]
    },
    {
     "name": "stderr",
     "output_type": "stream",
     "text": [
      "INFO:tensorflow:Assets written to: model_experiments\\Simple_LSTM_model\\assets\n"
     ]
    },
    {
     "name": "stdout",
     "output_type": "stream",
     "text": [
      "142/142 [==============================] - 3s 24ms/step - loss: 5.6710e-05 - mse: 5.6710e-05 - val_loss: 2.2439e-04 - val_mse: 2.2439e-04\n",
      "Epoch 86/100\n",
      "142/142 [==============================] - 1s 4ms/step - loss: 5.5405e-05 - mse: 5.5405e-05 - val_loss: 3.6836e-04 - val_mse: 3.6836e-04\n",
      "Epoch 87/100\n",
      "142/142 [==============================] - 1s 4ms/step - loss: 6.4655e-05 - mse: 6.4655e-05 - val_loss: 2.4224e-04 - val_mse: 2.4224e-04\n",
      "Epoch 88/100\n",
      "142/142 [==============================] - 1s 4ms/step - loss: 5.2965e-05 - mse: 5.2965e-05 - val_loss: 3.8517e-04 - val_mse: 3.8517e-04\n",
      "Epoch 89/100\n",
      "142/142 [==============================] - 1s 4ms/step - loss: 5.6579e-05 - mse: 5.6579e-05 - val_loss: 2.2569e-04 - val_mse: 2.2569e-04\n",
      "Epoch 90/100\n",
      "142/142 [==============================] - 1s 4ms/step - loss: 5.0779e-05 - mse: 5.0779e-05 - val_loss: 2.2861e-04 - val_mse: 2.2861e-04\n",
      "Epoch 91/100\n",
      "142/142 [==============================] - 1s 4ms/step - loss: 4.9668e-05 - mse: 4.9668e-05 - val_loss: 2.5005e-04 - val_mse: 2.5005e-04\n",
      "Epoch 92/100\n",
      "142/142 [==============================] - 1s 4ms/step - loss: 5.8065e-05 - mse: 5.8065e-05 - val_loss: 2.4573e-04 - val_mse: 2.4573e-04\n",
      "Epoch 93/100\n",
      "142/142 [==============================] - 1s 4ms/step - loss: 5.5137e-05 - mse: 5.5137e-05 - val_loss: 3.1266e-04 - val_mse: 3.1266e-04\n",
      "Epoch 94/100\n",
      "142/142 [==============================] - 1s 4ms/step - loss: 5.8102e-05 - mse: 5.8102e-05 - val_loss: 2.6257e-04 - val_mse: 2.6257e-04\n",
      "Epoch 95/100\n",
      "142/142 [==============================] - 1s 4ms/step - loss: 5.4901e-05 - mse: 5.4901e-05 - val_loss: 3.8960e-04 - val_mse: 3.8960e-04\n",
      "Epoch 96/100\n",
      "142/142 [==============================] - 1s 4ms/step - loss: 5.7395e-05 - mse: 5.7395e-05 - val_loss: 4.7857e-04 - val_mse: 4.7857e-04\n",
      "Epoch 97/100\n",
      "142/142 [==============================] - 1s 4ms/step - loss: 5.2207e-05 - mse: 5.2207e-05 - val_loss: 2.3730e-04 - val_mse: 2.3730e-04\n",
      "Epoch 98/100\n",
      "142/142 [==============================] - 1s 4ms/step - loss: 5.0747e-05 - mse: 5.0747e-05 - val_loss: 2.7188e-04 - val_mse: 2.7188e-04\n",
      "Epoch 99/100\n",
      "142/142 [==============================] - 1s 4ms/step - loss: 5.7153e-05 - mse: 5.7153e-05 - val_loss: 2.3187e-04 - val_mse: 2.3187e-04\n",
      "Epoch 100/100\n",
      "142/142 [==============================] - 1s 4ms/step - loss: 5.0097e-05 - mse: 5.0097e-05 - val_loss: 2.6427e-04 - val_mse: 2.6427e-04\n"
     ]
    }
   ],
   "source": [
    "history1 = model1.fit(X_train, y_train,\n",
    "                     epochs=100,\n",
    "                     validation_data=(X_test, y_test),\n",
    "                     callbacks=[create_model_checkpoint(model_name='Simple_LSTM_model')])"
   ]
  },
  {
   "cell_type": "markdown",
   "id": "4a40955c-41ec-4ffb-a98e-b1dc56c77b8e",
   "metadata": {},
   "source": [
    "## Evaluating a model"
   ]
  },
  {
   "cell_type": "code",
   "execution_count": 31,
   "id": "224d192a-7e9e-4416-a80a-acae88e9d048",
   "metadata": {},
   "outputs": [
    {
     "name": "stdout",
     "output_type": "stream",
     "text": [
      "16/16 [==============================] - 0s 2ms/step - loss: 2.6427e-04 - mse: 2.6427e-04\n"
     ]
    },
    {
     "data": {
      "text/plain": [
       "[0.00026427331613376737, 0.00026427331613376737]"
      ]
     },
     "execution_count": 31,
     "metadata": {},
     "output_type": "execute_result"
    }
   ],
   "source": [
    "model1.evaluate(X_test, y_test)"
   ]
  },
  {
   "cell_type": "code",
   "execution_count": 32,
   "id": "d687df73-1198-48b7-80b3-05bcb59ea4d6",
   "metadata": {},
   "outputs": [
    {
     "name": "stdout",
     "output_type": "stream",
     "text": [
      "16/16 [==============================] - 0s 2ms/step - loss: 2.2439e-04 - mse: 2.2439e-04\n"
     ]
    },
    {
     "data": {
      "text/plain": [
       "[0.00022438986343331635, 0.00022438986343331635]"
      ]
     },
     "execution_count": 32,
     "metadata": {},
     "output_type": "execute_result"
    }
   ],
   "source": [
    "# lets get the best performing stored model in the modelling experiments folder\n",
    "model1 = tf.keras.models.load_model('model_experiments/Simple_LSTM_model')\n",
    "model1.evaluate(X_test, y_test)"
   ]
  },
  {
   "cell_type": "code",
   "execution_count": 33,
   "id": "cd915da2-522f-4d34-b1ee-e78b36c38cfd",
   "metadata": {},
   "outputs": [
    {
     "name": "stdout",
     "output_type": "stream",
     "text": [
      "142/142 [==============================] - 0s 2ms/step - loss: 4.2429e-05 - mse: 4.2429e-05\n"
     ]
    },
    {
     "data": {
      "text/plain": [
       "[4.242910290486179e-05, 4.242910290486179e-05]"
      ]
     },
     "execution_count": 33,
     "metadata": {},
     "output_type": "execute_result"
    }
   ],
   "source": [
    "model1.evaluate(X_train, y_train)"
   ]
  },
  {
   "cell_type": "code",
   "execution_count": 34,
   "id": "f73ffc10-6df1-434c-a8e1-6ea4b06b3818",
   "metadata": {},
   "outputs": [
    {
     "name": "stdout",
     "output_type": "stream",
     "text": [
      "16/16 [==============================] - 0s 2ms/step\n"
     ]
    },
    {
     "data": {
      "text/plain": [
       "<tf.Tensor: shape=(5,), dtype=float32, numpy=\n",
       "array([0.9294243 , 0.92734885, 0.9186686 , 0.9279083 , 0.9355616 ],\n",
       "      dtype=float32)>"
      ]
     },
     "execution_count": 34,
     "metadata": {},
     "output_type": "execute_result"
    }
   ],
   "source": [
    "y_preds = tf.squeeze(model1.predict(X_test))\n",
    "y_preds[:5]"
   ]
  },
  {
   "cell_type": "code",
   "execution_count": 35,
   "id": "385364c0-fb74-461d-8d8c-0c7bab87192d",
   "metadata": {},
   "outputs": [
    {
     "name": "stdout",
     "output_type": "stream",
     "text": [
      "\n",
      "MAE : 0.01109505258500576\n",
      "MSE : 0.00022438986343331635\n",
      "RMSE : 0.014979648403823376\n",
      "MAPE : 1.5059828758239746\n",
      "R2 Score : 0.9775888246821973\n"
     ]
    }
   ],
   "source": [
    "from sklearn.metrics import r2_score\n",
    "\n",
    "# Make sure float32 (for metric calculations)\n",
    "y_test = tf.cast(y_test, dtype=tf.float32)\n",
    "y_preds = tf.cast(y_preds, dtype=tf.float32)\n",
    "\n",
    "# Calculate various metrics\n",
    "mae = tf.keras.metrics.mean_absolute_error(y_test, y_preds)\n",
    "mse = tf.keras.metrics.mean_squared_error(y_test, y_preds) # puts and emphasis on outliers (all errors get squared)\n",
    "rmse = tf.sqrt(mse)\n",
    "mape = tf.keras.metrics.mean_absolute_percentage_error(y_test, y_preds)\n",
    "r2 = r2_score(y_test, y_preds)\n",
    "\n",
    "print(f\"\"\"\n",
    "MAE : {mae.numpy()}\n",
    "MSE : {mse.numpy()}\n",
    "RMSE : {rmse.numpy()}\n",
    "MAPE : {mape.numpy()}\n",
    "R2 Score : {r2}\"\"\")"
   ]
  },
  {
   "cell_type": "code",
   "execution_count": 36,
   "id": "689b3f8b-30ba-4c24-9339-27bd3dbb6e14",
   "metadata": {},
   "outputs": [
    {
     "data": {
      "text/plain": [
       "<Axes: >"
      ]
     },
     "execution_count": 36,
     "metadata": {},
     "output_type": "execute_result"
    },
    {
     "data": {
      "image/png": "[encoded data removed]",
      "text/plain": [
       "<Figure size 640x480 with 1 Axes>"
      ]
     },
     "metadata": {},
     "output_type": "display_data"
    }
   ],
   "source": [
    "pd.DataFrame(history1.history).plot()"
   ]
  },
  {
   "cell_type": "markdown",
   "id": "f30cad3d-33af-4423-b21c-8f9e1e6ede36",
   "metadata": {},
   "source": [
    "## Visualzing our predictions on Test Data"
   ]
  },
  {
   "cell_type": "code",
   "execution_count": 37,
   "id": "945a66ad-e103-421f-bba8-cec7bb0015f0",
   "metadata": {},
   "outputs": [
    {
     "data": {
      "text/plain": [
       "Text(0.5, 1.0, 'Test Data vs. Predictions')"
      ]
     },
     "execution_count": 37,
     "metadata": {},
     "output_type": "execute_result"
    },
    {
     "data": {
      "image/png": "[encoded data removed]",
      "text/plain": [
       "<Figure size 640x480 with 1 Axes>"
      ]
     },
     "metadata": {},
     "output_type": "display_data"
    }
   ],
   "source": [
    "plt.plot(test_data[7:len(X)-(7+1)])\n",
    "plt.plot(y_preds)\n",
    "plt.title('Test Data vs. Predictions')"
   ]
  },
  {
   "cell_type": "markdown",
   "id": "fdfba105-c690-41a1-86f9-4347afeb0ea9",
   "metadata": {},
   "source": [
    "## Future Predictions of best model"
   ]
  },
  {
   "cell_type": "code",
   "execution_count": 38,
   "id": "4e02f753-e823-49eb-a47a-f9819bf792ed",
   "metadata": {},
   "outputs": [],
   "source": [
    "import datetime\n",
    "\n",
    "def future_prediction(data, days=30):\n",
    "    model_inputs = data[-1]\n",
    "    predictions = []\n",
    "    \n",
    "    for i in range(days):\n",
    "        y_pred = model1.predict(tf.expand_dims(model_inputs, axis=0))\n",
    "        model_inputs[:, :-1] = model_inputs[:, 1:]\n",
    "        model_inputs[:, -1] = y_pred\n",
    "        y_pred = tf.squeeze(scaler.inverse_transform(y_pred))\n",
    "        predictions.append(y_pred)\n",
    "    \n",
    "    predictions = np.array(predictions)\n",
    "    return predictions       "
   ]
  },
  {
   "cell_type": "code",
   "execution_count": 39,
   "id": "ac7ed59f-f66b-4985-9959-1cae002b9793",
   "metadata": {},
   "outputs": [
    {
     "name": "stdout",
     "output_type": "stream",
     "text": [
      "1/1 [==============================] - 0s 298ms/step\n",
      "1/1 [==============================] - 0s 21ms/step\n",
      "1/1 [==============================] - 0s 21ms/step\n",
      "1/1 [==============================] - 0s 22ms/step\n",
      "1/1 [==============================] - 0s 20ms/step\n",
      "1/1 [==============================] - 0s 19ms/step\n",
      "1/1 [==============================] - 0s 19ms/step\n",
      "1/1 [==============================] - 0s 20ms/step\n",
      "1/1 [==============================] - 0s 20ms/step\n",
      "1/1 [==============================] - 0s 19ms/step\n",
      "1/1 [==============================] - 0s 20ms/step\n",
      "1/1 [==============================] - 0s 21ms/step\n",
      "1/1 [==============================] - 0s 20ms/step\n",
      "1/1 [==============================] - 0s 19ms/step\n",
      "1/1 [==============================] - 0s 19ms/step\n",
      "1/1 [==============================] - 0s 19ms/step\n",
      "1/1 [==============================] - 0s 19ms/step\n",
      "1/1 [==============================] - 0s 25ms/step\n",
      "1/1 [==============================] - 0s 23ms/step\n",
      "1/1 [==============================] - 0s 21ms/step\n",
      "1/1 [==============================] - 0s 19ms/step\n",
      "1/1 [==============================] - 0s 22ms/step\n",
      "1/1 [==============================] - 0s 24ms/step\n",
      "1/1 [==============================] - 0s 23ms/step\n",
      "1/1 [==============================] - 0s 20ms/step\n",
      "1/1 [==============================] - 0s 21ms/step\n",
      "1/1 [==============================] - 0s 23ms/step\n",
      "1/1 [==============================] - 0s 21ms/step\n",
      "1/1 [==============================] - 0s 21ms/step\n",
      "1/1 [==============================] - 0s 26ms/step\n"
     ]
    }
   ],
   "source": [
    "predictions = future_prediction(X_test, 30)"
   ]
  },
  {
   "cell_type": "code",
   "execution_count": 40,
   "id": "4945bf77-06b8-4cf0-85a4-05dcf77ca70f",
   "metadata": {},
   "outputs": [],
   "source": [
    "# making a date array (required when plotting)\n",
    "today = np.datetime64(datetime.date.today())\n",
    "date_array = today + np.arange(30)"
   ]
  },
  {
   "cell_type": "code",
   "execution_count": 41,
   "id": "d0533aec-b255-4783-9205-b473c981627c",
   "metadata": {},
   "outputs": [
    {
     "data": {
      "text/plain": [
       "[<matplotlib.lines.Line2D at 0x271c079acb0>]"
      ]
     },
     "execution_count": 41,
     "metadata": {},
     "output_type": "execute_result"
    },
    {
     "data": {
      "image/png": "[encoded data removed]",
      "text/plain": [
       "<Figure size 640x480 with 1 Axes>"
      ]
     },
     "metadata": {},
     "output_type": "display_data"
    }
   ],
   "source": [
    "plt.plot(df['Date'][int(len(X_scaled)*0.9):], tf.squeeze(scaler.inverse_transform(test_data)))\n",
    "plt.plot(date_array, predictions)"
   ]
  },
  {
   "cell_type": "code",
   "execution_count": 43,
   "id": "3b94241e-b44d-4ffd-9d71-a4feafb0458d",
   "metadata": {},
   "outputs": [
    {
     "data": {
      "text/plain": [
       "array([95.58052 , 95.6824  , 95.74732 , 95.92505 , 96.07552 , 96.246376,\n",
       "       96.40531 , 96.55788 , 96.70912 , 96.85296 , 96.99174 , 97.12508 ,\n",
       "       97.25309 , 97.37623 , 97.49451 , 97.608215, 97.71755 , 97.82271 ,\n",
       "       97.92386 , 98.0212  , 98.11489 , 98.20508 , 98.29191 , 98.375534,\n",
       "       98.45609 , 98.5337  , 98.60846 , 98.6805  , 98.74989 , 98.81679 ],\n",
       "      dtype=float32)"
      ]
     },
     "execution_count": 43,
     "metadata": {},
     "output_type": "execute_result"
    }
   ],
   "source": [
    "predictions"
   ]
  },
  {
   "cell_type": "markdown",
   "id": "2768305a-3a9f-48f2-86f4-a74c13a9f7ed",
   "metadata": {},
   "source": [
    "## Saving the model"
   ]
  },
  {
   "cell_type": "code",
   "execution_count": 44,
   "id": "bac7f9c8-665d-4eeb-b68b-300096e9be68",
   "metadata": {},
   "outputs": [],
   "source": [
    "model1.save('Starbucks_lstm_model.h5')"
   ]
  }
 ],
 "metadata": {
  "kernelspec": {
   "display_name": "Python 3 (ipykernel)",
   "language": "python",
   "name": "python3"
  },
  "language_info": {
   "codemirror_mode": {
    "name": "ipython",
    "version": 3
   },
   "file_extension": ".py",
   "mimetype": "text/x-python",
   "name": "python",
   "nbconvert_exporter": "python",
   "pygments_lexer": "ipython3",
   "version": "3.10.9"
  }
 },
 "nbformat": 4,
 "nbformat_minor": 5
}
